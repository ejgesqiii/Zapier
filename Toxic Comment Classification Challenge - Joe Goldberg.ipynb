{
 "cells": [
  {
   "cell_type": "markdown",
   "metadata": {
    "deletable": true,
    "editable": true
   },
   "source": [
    "Import necessary packages"
   ]
  },
  {
   "cell_type": "code",
   "execution_count": null,
   "metadata": {
    "collapsed": true,
    "deletable": true,
    "editable": true
   },
   "outputs": [],
   "source": [
    "import pandas as pd\n",
    "import os\n",
    "import io\n",
    "import numpy\n",
    "from pandas import DataFrame\n",
    "from sklearn.feature_extraction.text import CountVectorizer\n",
    "from sklearn.naive_bayes import MultinomialNB"
   ]
  },
  {
   "cell_type": "markdown",
   "metadata": {
    "deletable": true,
    "editable": true
   },
   "source": [
    "Read in Data"
   ]
  },
  {
   "cell_type": "code",
   "execution_count": 77,
   "metadata": {
    "collapsed": false,
    "deletable": true,
    "editable": true
   },
   "outputs": [],
   "source": [
    "train = pd.read_csv('train.csv')\n",
    "test = pd.read_csv('test.csv')"
   ]
  },
  {
   "cell_type": "markdown",
   "metadata": {
    "collapsed": true,
    "deletable": true,
    "editable": true
   },
   "source": [
    "Vectorize training data comment_text"
   ]
  },
  {
   "cell_type": "code",
   "execution_count": 43,
   "metadata": {
    "collapsed": false,
    "deletable": true,
    "editable": true
   },
   "outputs": [],
   "source": [
    "vectorizer = CountVectorizer()\n",
    "counts = vectorizer.fit_transform(train['comment_text'].values)"
   ]
  },
  {
   "cell_type": "markdown",
   "metadata": {
    "deletable": true,
    "editable": true
   },
   "source": [
    "Create bayesian classifiers for: toxic, severe_toxic, obscene, threat, insult, and identity_hate comments"
   ]
  },
  {
   "cell_type": "code",
   "execution_count": 48,
   "metadata": {
    "collapsed": false,
    "deletable": true,
    "editable": true
   },
   "outputs": [
    {
     "data": {
      "text/plain": [
       "MultinomialNB(alpha=1.0, class_prior=None, fit_prior=True)"
      ]
     },
     "execution_count": 48,
     "metadata": {},
     "output_type": "execute_result"
    }
   ],
   "source": [
    "toxic_classifier = MultinomialNB()\n",
    "toxic = train['toxic'].values\n",
    "toxic_classifier.fit(counts, toxic)\n",
    "\n",
    "severe_toxic_classifier = MultinomialNB()\n",
    "severe_toxic = train['severe_toxic'].values\n",
    "severe_toxic_classifier.fit(counts, severe_toxic)\n",
    "\n",
    "obscene_classifier = MultinomialNB()\n",
    "obscene = train['obscene'].values\n",
    "obscene_classifier.fit(counts, obscene)\n",
    "\n",
    "threat_classifier = MultinomialNB()\n",
    "threat = train['threat'].values\n",
    "threat_classifier.fit(counts, threat)\n",
    "\n",
    "insult_classifier = MultinomialNB()\n",
    "insult = train['insult'].values\n",
    "insult_classifier.fit(counts, insult)\n",
    "\n",
    "identity_hate_classifier = MultinomialNB()\n",
    "identity_hate = train['identity_hate'].values\n",
    "identity_hate_classifier.fit(counts, identity_hate)"
   ]
  },
  {
   "cell_type": "markdown",
   "metadata": {
    "collapsed": false,
    "deletable": true,
    "editable": true
   },
   "source": [
    "Tokenize test data"
   ]
  },
  {
   "cell_type": "code",
   "execution_count": 45,
   "metadata": {
    "collapsed": false,
    "deletable": true,
    "editable": true
   },
   "outputs": [],
   "source": [
    "test_counts = vectorizer.transform(test['comment_text'])"
   ]
  },
  {
   "cell_type": "markdown",
   "metadata": {
    "collapsed": true,
    "deletable": true,
    "editable": true
   },
   "source": [
    "Make predictions on test data and append to test data frame"
   ]
  },
  {
   "cell_type": "code",
   "execution_count": 78,
   "metadata": {
    "collapsed": false,
    "deletable": true,
    "editable": true
   },
   "outputs": [],
   "source": [
    "toxic_predictions = toxic_classifier.predict(test_counts)\n",
    "severe_toxic_predictions = severe_toxic_classifier.predict(test_counts)\n",
    "obscene_predictions = obscene_classifier.predict(test_counts)\n",
    "threat_predictions = threat_classifier.predict(test_counts)\n",
    "insult_predictions = insult_classifier.predict(test_counts)\n",
    "identity_hate_predictions = identity_hate_classifier.predict(test_counts)\n",
    "\n",
    "test['toxic_predictions'] = toxic_predictions\n",
    "test['severe_toxic_predictions'] = severe_toxic_predictions\n",
    "test['obscene_predictions'] = obscene_predictions\n",
    "test['threat_predictions'] = threat_predictions\n",
    "test['insult_predictions'] = insult_predictions\n",
    "test['identity_hate_predictions'] = identity_hate_predictions\n"
   ]
  },
  {
   "cell_type": "code",
   "execution_count": null,
   "metadata": {
    "collapsed": true,
    "deletable": true,
    "editable": true
   },
   "outputs": [],
   "source": []
  }
 ],
 "metadata": {
  "kernelspec": {
   "display_name": "Python 3",
   "language": "python",
   "name": "python3"
  },
  "language_info": {
   "codemirror_mode": {
    "name": "ipython",
    "version": 3
   },
   "file_extension": ".py",
   "mimetype": "text/x-python",
   "name": "python",
   "nbconvert_exporter": "python",
   "pygments_lexer": "ipython3",
   "version": "3.5.2"
  }
 },
 "nbformat": 4,
 "nbformat_minor": 2
}
